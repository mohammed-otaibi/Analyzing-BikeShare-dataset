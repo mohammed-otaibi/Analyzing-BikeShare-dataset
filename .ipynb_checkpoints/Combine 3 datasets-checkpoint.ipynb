{
 "cells": [
  {
   "cell_type": "code",
   "execution_count": 274,
   "id": "fd524bd3-d33c-47ca-aaf3-af3503868a93",
   "metadata": {},
   "outputs": [],
   "source": [
    "import pandas as pd\n",
    "\n"
   ]
  },
  {
   "cell_type": "code",
   "execution_count": 275,
   "id": "58f91952-eadd-4a47-89cc-0570585cccb6",
   "metadata": {},
   "outputs": [],
   "source": [
    "# Read data for the three cities\n",
    "nyc_data = pd.read_csv('NYC.csv')\n",
    "chicago_data = pd.read_csv('Chicago.csv')\n",
    "washington_data = pd.read_csv('Washington.csv')"
   ]
  },
  {
   "cell_type": "code",
   "execution_count": 276,
   "id": "13d7ae54-cdf0-4d81-b8bf-f42f2d5d323e",
   "metadata": {},
   "outputs": [],
   "source": [
    "# Standardize columns for New York City\n",
    "nyc_data['city'] = 'New York City'\n",
    "nyc_data.rename(columns={\n",
    "    'starttime': 'start_time',\n",
    "    'stoptime': 'end_time',\n",
    "    'tripduration': 'duration',\n",
    "    'usertype': 'user_type',\n",
    "    'birth year': 'birth_year'\n",
    "}, inplace=True)\n",
    "\n",
    "# Standardize columns for Chicago\n",
    "chicago_data['city'] = 'Chicago'\n",
    "chicago_data.rename(columns={\n",
    "    'starttime': 'start_time',\n",
    "    'stoptime': 'end_time',\n",
    "    'tripduration': 'duration',\n",
    "    'usertype': 'user_type',\n",
    "    'birthyear': 'birth_year'\n",
    "}, inplace=True)\n",
    "\n",
    "# Standardize columns for Washington\n",
    "washington_data['city'] = 'Washington'\n",
    "washington_data.rename(columns={\n",
    "    'Start date': 'start_time',\n",
    "    'End date': 'end_time',\n",
    "    'Duration (ms)': 'duration',\n",
    "    'Member Type': 'user_type'\n",
    "}, inplace=True)\n"
   ]
  },
  {
   "cell_type": "code",
   "execution_count": 277,
   "id": "a1f25f2c-c954-4e3d-a82d-899ab9668b5b",
   "metadata": {},
   "outputs": [],
   "source": [
    "\n",
    "# Add missing columns (gender and birth_year) for Washington\n",
    "washington_data['gender'] = None\n",
    "washington_data['birth_year'] = None\n"
   ]
  },
  {
   "cell_type": "code",
   "execution_count": 278,
   "id": "ee182c5c-c2ac-469c-ba05-f6e68c65d1c1",
   "metadata": {},
   "outputs": [
    {
     "data": {
      "text/plain": [
       "duration                    0\n",
       "start_time                  0\n",
       "end_time                    0\n",
       "Start station number        0\n",
       "Start station               0\n",
       "End station number          0\n",
       "End station                 0\n",
       "Bike number                 0\n",
       "user_type                   0\n",
       "city                        0\n",
       "gender                  66326\n",
       "birth_year              66326\n",
       "dtype: int64"
      ]
     },
     "execution_count": 278,
     "metadata": {},
     "output_type": "execute_result"
    }
   ],
   "source": [
    "washington_data.isnull().sum()"
   ]
  },
  {
   "cell_type": "code",
   "execution_count": 279,
   "id": "8fc12cbc-86b1-41ef-bf8e-935b2b461d33",
   "metadata": {},
   "outputs": [
    {
     "data": {
      "text/plain": [
       "duration                 int64\n",
       "start_time              object\n",
       "end_time                object\n",
       "Start station number     int64\n",
       "Start station           object\n",
       "End station number       int64\n",
       "End station             object\n",
       "Bike number             object\n",
       "user_type               object\n",
       "city                    object\n",
       "gender                  object\n",
       "birth_year              object\n",
       "dtype: object"
      ]
     },
     "execution_count": 279,
     "metadata": {},
     "output_type": "execute_result"
    }
   ],
   "source": [
    "washington_data.dtypes"
   ]
  },
  {
   "cell_type": "code",
   "execution_count": 280,
   "id": "35930154-03f5-4b92-8c43-e76bfe5dc897",
   "metadata": {},
   "outputs": [
    {
     "data": {
      "text/plain": [
       "(66326, 12)"
      ]
     },
     "execution_count": 280,
     "metadata": {},
     "output_type": "execute_result"
    }
   ],
   "source": [
    "washington_data.shape"
   ]
  },
  {
   "cell_type": "code",
   "execution_count": null,
   "id": "456b09d9-0518-4207-a2af-2a26c8e57a0f",
   "metadata": {},
   "outputs": [],
   "source": []
  },
  {
   "cell_type": "code",
   "execution_count": 281,
   "id": "48e39439-e22e-4836-ab46-0dc56408d7dc",
   "metadata": {},
   "outputs": [
    {
     "name": "stdout",
     "output_type": "stream",
     "text": [
      "start_time dtype: datetime64[ns]\n",
      "Dataset shape: (66326, 12)\n",
      "Null values per column:\n",
      "duration                    0\n",
      "start_time                  0\n",
      "end_time                    0\n",
      "Start station number        0\n",
      "Start station               0\n",
      "End station number          0\n",
      "End station                 0\n",
      "Bike number                 0\n",
      "user_type                   0\n",
      "city                        0\n",
      "gender                  66326\n",
      "birth_year              66326\n",
      "dtype: int64\n",
      "==============================\n",
      "start_time dtype: datetime64[ns]\n",
      "Dataset shape: (276798, 16)\n",
      "Null values per column:\n",
      "duration                       0\n",
      "start_time                     0\n",
      "end_time                       0\n",
      "start station id               0\n",
      "start station name             0\n",
      "start station latitude         0\n",
      "start station longitude        0\n",
      "end station id                 0\n",
      "end station name               0\n",
      "end station latitude           0\n",
      "end station longitude          0\n",
      "bikeid                         0\n",
      "user_type                    717\n",
      "birth_year                 31661\n",
      "gender                         0\n",
      "city                           0\n",
      "dtype: int64\n",
      "==============================\n",
      "start_time dtype: datetime64[ns]\n",
      "Dataset shape: (72131, 13)\n",
      "Null values per column:\n",
      "trip_id                  0\n",
      "start_time               0\n",
      "end_time                 0\n",
      "bikeid                   0\n",
      "duration                 0\n",
      "from_station_id          0\n",
      "from_station_name        0\n",
      "to_station_id            0\n",
      "to_station_name          0\n",
      "user_type                0\n",
      "gender               17154\n",
      "birth_year           17145\n",
      "city                     0\n",
      "dtype: int64\n",
      "==============================\n"
     ]
    }
   ],
   "source": [
    "# def confertDate(df):\n",
    "#     # Convert 'start_time' and 'end_time' to datetime format\n",
    "#     df['start_time']=pd.to_datetime(df['start_time'])\n",
    "#     print(df['start_time'].dtypes,'=======\\n dataset shape: \\n=======',df.shape,'=========\\n',df.isnull().sum(),'=======\\n\\n\\n')\n",
    "#     return df\n",
    "# washington_data=washington_data.copy()\n",
    "# washington_data= confertDate(washington_data)\n",
    "# nyc_data=nyc_data.copy()\n",
    "# nyc_data= confertDate(nyc_data)\n",
    "# chicago_data=chicago_data.copy()\n",
    "# chicago_data= confertDate(chicago_data)\n",
    "\n",
    "# washington_data['month'] = washington_data['start_time'].dt.month\n",
    "# washington_data['hour'] = washington_data['start_time'].dt.hour\n",
    "# washington_data['day'] = washington_data['start_time'].dt.day_name()\n",
    "\n",
    "# nyc_data['month'] = nyc_data['start_time'].dt.month\n",
    "# nyc_data['hour'] = nyc_data['start_time'].dt.hour\n",
    "# nyc_data['day'] = nyc_data['start_time'].dt.day_name()\n",
    "\n",
    "# chicago_data['month'] = chicago_data['start_time'].dt.month\n",
    "# chicago_data['hour'] = chicago_data['start_time'].dt.hour\n",
    "# chicago_data['day'] = chicago_data['start_time'].dt.day_name()\n",
    "\n",
    "\n",
    "import pandas as pd\n",
    "\n",
    "def convert_and_extract_datetime_features(df, datetime_column):\n",
    "    \"\"\"\n",
    "    Converts a specified column to datetime format and extracts useful features.\n",
    "\n",
    "    Args:\n",
    "        df (pd.DataFrame): The DataFrame to process.\n",
    "        datetime_column (str): The name of the column to convert to datetime.\n",
    "\n",
    "    Returns:\n",
    "        pd.DataFrame: The DataFrame with converted datetime column and new features.\n",
    "    \"\"\"\n",
    "    # Convert the specified column to datetime\n",
    "    df[datetime_column] = pd.to_datetime(df[datetime_column], errors='coerce')\n",
    "\n",
    "    # Print column type, dataset shape, and null values summary\n",
    "    print(\n",
    "        f\"{datetime_column} dtype: {df[datetime_column].dtypes}\\n\"\n",
    "        f\"Dataset shape: {df.shape}\\n\"\n",
    "        f\"Null values per column:\\n{df.isnull().sum()}\\n{'='*30}\"\n",
    "    )\n",
    "\n",
    "    # Extract additional datetime features\n",
    "    df['month'] = df[datetime_column].dt.month\n",
    "    df['hour'] = df[datetime_column].dt.hour\n",
    "    df['day'] = df[datetime_column].dt.day_name()\n",
    "\n",
    "    return df\n",
    "\n",
    "# Process each dataset and apply datetime conversion\n",
    "for dataset_name, dataset in {\"washington_data\": washington_data, \n",
    "                              \"nyc_data\": nyc_data, \n",
    "                              \"chicago_data\": chicago_data}.items():\n",
    "    # Make a copy of the dataset\n",
    "    locals()[dataset_name] = dataset.copy()\n",
    "\n",
    "    # Convert datetime and extract features\n",
    "    locals()[dataset_name] = convert_and_extract_datetime_features(locals()[dataset_name], \"start_time\")\n"
   ]
  },
  {
   "cell_type": "code",
   "execution_count": null,
   "id": "48026f29-e1ec-499d-a126-22c5496abccc",
   "metadata": {},
   "outputs": [],
   "source": []
  },
  {
   "cell_type": "code",
   "execution_count": 282,
   "id": "a93df9ad-eb93-417f-9864-e5b0b28da08a",
   "metadata": {},
   "outputs": [
    {
     "name": "stdout",
     "output_type": "stream",
     "text": [
      "   duration          start_time           end_time  start station id  \\\n",
      "0       839 2016-01-01 00:09:55  1/1/2016 00:23:54             532.0   \n",
      "1       686 2016-01-01 00:21:17  1/1/2016 00:32:44            3143.0   \n",
      "2       315 2016-01-01 00:33:11  1/1/2016 00:38:26            3164.0   \n",
      "3       739 2016-01-01 00:40:51  1/1/2016 00:53:11             223.0   \n",
      "4      1253 2016-01-01 00:44:16  1/1/2016 01:05:09             484.0   \n",
      "\n",
      "       start station name  start station latitude  start station longitude  \\\n",
      "0         S 5 Pl & S 4 St               40.710451               -73.960876   \n",
      "1         5 Ave & E 78 St               40.776829               -73.963888   \n",
      "2  Columbus Ave & W 72 St               40.777057               -73.978985   \n",
      "3         W 13 St & 7 Ave               40.737815               -73.999947   \n",
      "4         W 44 St & 5 Ave               40.755003               -73.980144   \n",
      "\n",
      "   end station id          end station name  end station latitude  ...  \\\n",
      "0           401.0   Allen St & Rivington St             40.720196  ...   \n",
      "1          3132.0     E 59 St & Madison Ave             40.763505  ...   \n",
      "2          3178.0    Riverside Dr & W 78 St             40.784145  ...   \n",
      "3           276.0   Duane St & Greenwich St             40.717488  ...   \n",
      "4           151.0  Cleveland Pl & Spring St             40.722104  ...   \n",
      "\n",
      "   trip_id  from_station_id from_station_name  to_station_id to_station_name  \\\n",
      "0      NaN              NaN               NaN            NaN             NaN   \n",
      "1      NaN              NaN               NaN            NaN             NaN   \n",
      "2      NaN              NaN               NaN            NaN             NaN   \n",
      "3      NaN              NaN               NaN            NaN             NaN   \n",
      "4      NaN              NaN               NaN            NaN             NaN   \n",
      "\n",
      "  Start station number  Start station  End station number End station  \\\n",
      "0                  NaN            NaN                 NaN         NaN   \n",
      "1                  NaN            NaN                 NaN         NaN   \n",
      "2                  NaN            NaN                 NaN         NaN   \n",
      "3                  NaN            NaN                 NaN         NaN   \n",
      "4                  NaN            NaN                 NaN         NaN   \n",
      "\n",
      "   Bike number  \n",
      "0          NaN  \n",
      "1          NaN  \n",
      "2          NaN  \n",
      "3          NaN  \n",
      "4          NaN  \n",
      "\n",
      "[5 rows x 29 columns]\n"
     ]
    }
   ],
   "source": [
    "# Drop all-NA columns from each DataFrame\n",
    "nyc_data = nyc_data.dropna(axis=1, how='all')\n",
    "chicago_data = chicago_data.dropna(axis=1, how='all')\n",
    "washington_data = washington_data.dropna(axis=1, how='all')\n",
    "\n",
    "# Combine data into a single DataFrame\n",
    "combined_data = pd.concat([nyc_data, chicago_data, washington_data], ignore_index=True)\n",
    "\n",
    "# Display the first few rows of the combined data\n",
    "print(combined_data.head())\n"
   ]
  },
  {
   "cell_type": "code",
   "execution_count": 283,
   "id": "592fda9b-37dd-4598-9ef3-66bdaaef5698",
   "metadata": {},
   "outputs": [
    {
     "data": {
      "text/plain": [
       "Index(['duration', 'start_time', 'end_time', 'start station id',\n",
       "       'start station name', 'start station latitude',\n",
       "       'start station longitude', 'end station id', 'end station name',\n",
       "       'end station latitude', 'end station longitude', 'bikeid', 'user_type',\n",
       "       'birth_year', 'gender', 'city', 'month', 'hour', 'day', 'trip_id',\n",
       "       'from_station_id', 'from_station_name', 'to_station_id',\n",
       "       'to_station_name', 'Start station number', 'Start station',\n",
       "       'End station number', 'End station', 'Bike number'],\n",
       "      dtype='object')"
      ]
     },
     "execution_count": 283,
     "metadata": {},
     "output_type": "execute_result"
    }
   ],
   "source": [
    "combined_data.columns"
   ]
  },
  {
   "cell_type": "code",
   "execution_count": 284,
   "id": "538985d1-560e-433b-89e1-12ad8e8ca8bc",
   "metadata": {},
   "outputs": [],
   "source": [
    "# Save the combined data to a new file\n",
    "combined_data.to_csv('combined_bike_data.csv', index=False)\n"
   ]
  },
  {
   "cell_type": "code",
   "execution_count": null,
   "id": "8dba1ae0-9b46-4491-b303-8494cb97e397",
   "metadata": {},
   "outputs": [],
   "source": []
  }
 ],
 "metadata": {
  "kernelspec": {
   "display_name": "Python 3 (ipykernel)",
   "language": "python",
   "name": "python3"
  },
  "language_info": {
   "codemirror_mode": {
    "name": "ipython",
    "version": 3
   },
   "file_extension": ".py",
   "mimetype": "text/x-python",
   "name": "python",
   "nbconvert_exporter": "python",
   "pygments_lexer": "ipython3",
   "version": "3.12.4"
  }
 },
 "nbformat": 4,
 "nbformat_minor": 5
}
